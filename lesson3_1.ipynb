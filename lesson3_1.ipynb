{
 "cells": [
  {
   "cell_type": "code",
   "execution_count": 1,
   "metadata": {},
   "outputs": [
    {
     "name": "stdout",
     "output_type": "stream",
     "text": [
      "獎金是：1000\n"
     ]
    }
   ],
   "source": [
    "chinese = int(input('請輸入國文分數：'))\n",
    "english = int(input('請輸入英文分數：'))\n",
    "bonus = 0\n",
    "if chinese == 100:\n",
    "    if english == 100:\n",
    "        bonus = 1000\n",
    "    else:\n",
    "        bonus = 500\n",
    "else:\n",
    "    if english == 100:\n",
    "        bonus = 500\n",
    "    else:\n",
    "        bonus = 0\n",
    "\n",
    "print(f'獎金是：{bonus}')\n"
   ]
  },
  {
   "cell_type": "code",
   "execution_count": 2,
   "metadata": {},
   "outputs": [
    {
     "name": "stdout",
     "output_type": "stream",
     "text": [
      "獎金是：500\n"
     ]
    }
   ],
   "source": [
    "chinese = int(input('請輸入國文分數：'))\n",
    "english = int(input('請輸入英文分數：'))\n",
    "\n",
    "if chinese == 100 and english == 100:\n",
    "    bonus = 1000\n",
    "elif chinese == 100 or english == 100:\n",
    "    bonus = 500\n",
    "else:\n",
    "    bonus = 0\n",
    "\n",
    "print(f'獎金是：{bonus}')"
   ]
  },
  {
   "cell_type": "code",
   "execution_count": 7,
   "metadata": {},
   "outputs": [
    {
     "name": "stdout",
     "output_type": "stream",
     "text": [
      "BMI 是：26.04\n",
      "體重是：體重過重\n"
     ]
    }
   ],
   "source": [
    "height = eval(input('請輸入身高（公分）：'))\n",
    "weight = eval(input('請輸入體重（公斤）：'))\n",
    "\n",
    "bmi = weight / (height / 100) ** 2\n",
    "\n",
    "print(f'BMI 是：{bmi:.2f}')\n",
    "\n",
    "if bmi < 18.5:\n",
    "    state = '體重過輕'\n",
    "elif bmi < 24:\n",
    "    state = '正常'\n",
    "elif bmi < 27:\n",
    "    state = '體重過重'\n",
    "elif bmi < 30:\n",
    "    state = '中度肥胖'\n",
    "else:\n",
    "    state = '重度肥胖'\n",
    "\n",
    "print(f'體重是：{state}')\n"
   ]
  }
 ],
 "metadata": {
  "kernelspec": {
   "display_name": "venv01",
   "language": "python",
   "name": "python3"
  },
  "language_info": {
   "codemirror_mode": {
    "name": "ipython",
    "version": 3
   },
   "file_extension": ".py",
   "mimetype": "text/x-python",
   "name": "python",
   "nbconvert_exporter": "python",
   "pygments_lexer": "ipython3",
   "version": "3.10.8"
  },
  "orig_nbformat": 4
 },
 "nbformat": 4,
 "nbformat_minor": 2
}
