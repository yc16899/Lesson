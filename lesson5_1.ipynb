{
 "cells": [
  {
   "cell_type": "code",
   "execution_count": 1,
   "metadata": {},
   "outputs": [
    {
     "data": {
      "text/plain": [
       "0.38825010626480927"
      ]
     },
     "execution_count": 1,
     "metadata": {},
     "output_type": "execute_result"
    }
   ],
   "source": [
    "import random\n",
    "random.random()"
   ]
  },
  {
   "cell_type": "code",
   "execution_count": 4,
   "metadata": {},
   "outputs": [
    {
     "name": "stdout",
     "output_type": "stream",
     "text": [
      "2.3576991073116935\n",
      "99.26683064135166\n"
     ]
    }
   ],
   "source": [
    "print(random.uniform(1, 10))\n",
    "print(random.uniform(99,100))"
   ]
  },
  {
   "cell_type": "code",
   "execution_count": 10,
   "metadata": {},
   "outputs": [
    {
     "name": "stdout",
     "output_type": "stream",
     "text": [
      "猜數字\n",
      "猜錯了\n",
      "猜錯了\n",
      "猜錯了\n",
      "猜對了，答案是4\n",
      "結束\n"
     ]
    }
   ],
   "source": [
    "min = 1\n",
    "max = 10\n",
    "random_value = random.randint(min,max)\n",
    "print('猜數字')\n",
    "while True:\n",
    "    keyin = int(input(f'猜數字的範圍{min}~{max}:'))\n",
    "    if(keyin == random_value):\n",
    "        print(f'猜對了，答案是{random_value}')\n",
    "        break\n",
    "    else:\n",
    "        print('猜錯了')\n",
    "\n",
    "print('結束')"
   ]
  }
 ],
 "metadata": {
  "kernelspec": {
   "display_name": ".venv",
   "language": "python",
   "name": "python3"
  },
  "language_info": {
   "codemirror_mode": {
    "name": "ipython",
    "version": 3
   },
   "file_extension": ".py",
   "mimetype": "text/x-python",
   "name": "python",
   "nbconvert_exporter": "python",
   "pygments_lexer": "ipython3",
   "version": "3.10.8"
  },
  "orig_nbformat": 4
 },
 "nbformat": 4,
 "nbformat_minor": 2
}
